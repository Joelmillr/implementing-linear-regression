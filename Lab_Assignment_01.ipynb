{
 "cells": [
  {
   "cell_type": "markdown",
   "metadata": {},
   "source": [
    "# Grade: /100 points\n",
    "\n",
    "# Lab Assignment 01: Supervised learning, Linear models, and Loss functions\n",
    "\n",
    "In this Lab assignment, you're going to write your own methods to fit a linear model using either an OLS or LAD cost function.  \n",
    "\n",
    "## Data set \n",
    "\n",
    "For this assignment, we will examine some data representing possums in Australia and New Guinea. The data frame contains 46 observations on the following 6 variables:\n",
    "\n",
    "* sex: Sex, either m (male) or f (female).\n",
    "* age: Age in years.\n",
    "* headL: Head length, in mm.\n",
    "* skullW: Skull width, in mm.\n",
    "* totalL: Total length, in cm.\n",
    "* tailL: Tail length, in cm.\n",
    "\n",
    "## Follow These Steps before submitting\n",
    "Once you are finished, ensure to complete the following steps.\n",
    "\n",
    "1.  Restart your kernel by clicking 'Kernel' > 'Restart & Run All'.\n",
    "\n",
    "2.  Fix any errors which result from this.\n",
    "\n",
    "3.  Repeat steps 1. and 2. until your notebook runs without errors.\n",
    "\n",
    "4.  Submit your completed notebook to OWL by the deadline.\n",
    "\n",
    "\n",
    "## Preliminaries"
   ]
  },
  {
   "cell_type": "code",
   "execution_count": 1,
   "metadata": {},
   "outputs": [],
   "source": [
    "# Import all the necessary packages: \n",
    "import matplotlib.pyplot as plt \n",
    "import numpy as np\n",
    "import pandas as pd\n",
    "import scipy.stats as ss \n",
    "import scipy.optimize as so\n",
    "import statsmodels.api as sm\n",
    "import statsmodels.formula.api as smf\n",
    "\n",
    "%matplotlib inline"
   ]
  },
  {
   "cell_type": "markdown",
   "metadata": {},
   "source": [
    "\n",
    "## Part 1\n",
    "### Question 1.1:  /10 points\n",
    "\n",
    "\n",
    "Read in the `possum.csv` file as a `pandas.DataFrame`.  Investigate the relationship between the possum's age and it's tail length by plotting a scatter plot of the `age` and `tailL` columns. You might want to add an `alpha` in case some data are overlapping. "
   ]
  },
  {
   "cell_type": "code",
   "execution_count": 2,
   "metadata": {},
   "outputs": [
    {
     "name": "stderr",
     "output_type": "stream",
     "text": [
      "/Users/joelmiller/opt/anaconda3/lib/python3.9/site-packages/pandas/plotting/_matplotlib/core.py:1114: UserWarning: No data for colormapping provided via 'c'. Parameters 'cmap' will be ignored\n",
      "  scatter = ax.scatter(\n"
     ]
    },
    {
     "data": {
      "image/png": "[encoded data removed]",
      "text/plain": [
       "<Figure size 432x288 with 1 Axes>"
      ]
     },
     "metadata": {
      "needs_background": "light"
     },
     "output_type": "display_data"
    }
   ],
   "source": [
    "# Read in the data with pandas\n",
    "possum_data = pd.read_csv('possum.csv')\n",
    "\n",
    "# Make the scatter plot (don't forget the axis labels)\n",
    "possum_data.plot.scatter(x = 'age', y = 'tailL', alpha = 0.75)\n",
    "plt.ylabel(\"Tail Length\", fontsize=18)\n",
    "plt.xlabel(\"Age\", fontsize=18)\n",
    "plt.title('Tail Length vs. Age', fontsize=20)\n",
    "plt.show()"
   ]
  },
  {
   "cell_type": "markdown",
   "metadata": {},
   "source": [
    "### Question 1.2: /5 point\n",
    "\n",
    "Recall that the linear model, we obtain predictions by computing \n",
    "\n",
    "$$ \\hat{\\mathbf{y}} = \\mathbf{X} \\beta $$\n",
    "\n",
    "Here, $\\mathbf{X}$ is a design matrix which includes a column of ones, $\\beta$ are coefficients, and $\\mathbf{y}$ are outcomes.  Write a function `linearModelPredict` to compute linear model predictions given data and a coefficient vector.  The function should take as it's arguments a 1d-array of coefficients `b` and the design matrix `X` as a 2d-array and return linear model predictions `yp`.\n",
    "\n",
    "Test the function by setting \n",
    "\n",
    "```\n",
    "X = np.array([[1,0],[1,-1],[1,2]])\n",
    "b = np.array([0.1,0.3])\n",
    "```\n",
    "and call you function with these values! \n",
    "\n",
    "Report $\\hat{\\mathbf{y}}$. \n",
    "What is the dimensionality of the numpy-array that you get back? \n",
    "\n",
    "Hint:  Read the documentation for `np.dot` or the `@` operator in `numpy`."
   ]
  },
  {
   "cell_type": "code",
   "execution_count": 3,
   "metadata": {},
   "outputs": [],
   "source": [
    "X = np.array([[1,0],[1,-1],[1,2]])\n",
    "b = np.array([0.1,0.3])"
   ]
  },
  {
   "cell_type": "code",
   "execution_count": 4,
   "metadata": {},
   "outputs": [],
   "source": [
    "def linearModelPredict(b,X):\n",
    "    yp = X @ b\n",
    "    return yp"
   ]
  },
  {
   "cell_type": "markdown",
   "metadata": {},
   "source": [
    "What happens when b is a 2d-array?\n",
    "\n",
    "If b is a 2d-array, yp will be a 2d-array as well."
   ]
  },
  {
   "cell_type": "code",
   "execution_count": 5,
   "metadata": {},
   "outputs": [
    {
     "data": {
      "text/plain": [
       "array([ 0.1, -0.2,  0.7])"
      ]
     },
     "execution_count": 5,
     "metadata": {},
     "output_type": "execute_result"
    }
   ],
   "source": [
    "# Always important: Test the new function you have written! \n",
    "yp = linearModelPredict(b,X)\n",
    "yp"
   ]
  },
  {
   "cell_type": "markdown",
   "metadata": {},
   "source": [
    "### Question 1.3: /15 points\n",
    "\n",
    "Write a function `linearModelLossRSS` which computes and returns the loss function for an OLS model parameterized by $\\beta$, as well as the gradient of the loss.  The function should take as its first argument a 1d-array `beta` of coefficients for the linear model, as its second argument the design matrix `X` as a 2d-array, and as its third argument a 1d-array `y` of observed outcomes.\n",
    "\n",
    "Test the function with the values \n",
    "\n",
    "```\n",
    "X = np.array([[1,0],[1,-1],[1,2]])\n",
    "b = np.array([0.1,0.3])\n",
    "y = np.array([0,0.4,2]) \n",
    "```\n",
    "\n",
    "Report RSS and gradient. \n",
    "Written answer: To minimize the cost do you need increase or decrease the value of the parameters? "
   ]
  },
  {
   "cell_type": "code",
   "execution_count": 6,
   "metadata": {},
   "outputs": [],
   "source": [
    "X = np.array([[1,0],[1,-1],[1,2]])\n",
    "b = np.array([0.1,0.3])\n",
    "y = np.array([0,0.4,2]) "
   ]
  },
  {
   "cell_type": "code",
   "execution_count": 7,
   "metadata": {},
   "outputs": [],
   "source": [
    "def linearModelLoss(b, X, y):\n",
    "    yp = (np.dot(X,b))\n",
    "    rss = np.sum(np.square(y - yp))\n",
    "    gradient = -2 * ((y - yp) @ X)\n",
    "    return (rss, gradient)"
   ]
  },
  {
   "cell_type": "code",
   "execution_count": 8,
   "metadata": {},
   "outputs": [
    {
     "name": "stdout",
     "output_type": "stream",
     "text": [
      "RSS: 2.06\n",
      "Gradient: [-3.6 -4. ]\n"
     ]
    }
   ],
   "source": [
    "rss, gradient = linearModelLoss(b, X, y)\n",
    "print(\"RSS: \" + str(rss))\n",
    "print(\"Gradient: \" + str(gradient))"
   ]
  },
  {
   "cell_type": "markdown",
   "metadata": {},
   "source": [
    "Written answer: \n",
    "Since our goal is to minimize the value of out cost function, and our gradient is negative, we can increase $\\theta_0$ and $\\theta_1$ to approach: \n",
    "\n",
    "dg($\\theta$) / d$\\theta$ = 0"
   ]
  },
  {
   "cell_type": "markdown",
   "metadata": {},
   "source": [
    "### Question 1.4:  /15 points. \n",
    "\n",
    "Now that you've implemented a loss function in question 3, it is now time to minimize it!\n",
    "\n",
    "Write a function `linearModelFit` to fit a linear model.  The function should take as its first argument the design matrix `X` as a 2d-array, as its second argument a 1d-array `y` of outcomes, and as its third argument a function  `lossfcn` which returns as a tuple the value of the loss, as well as the gradient of the loss. As a result, it should return the estimated betas and the R2. \n",
    "\n",
    "Test the function with the values: \n",
    "```\n",
    "X = np.array([[1,0],[1,-1],[1,2]])\n",
    "b = np.array([0.1,0.3])\n",
    "y = np.array([0,0.4,2]) \n",
    "```\n",
    "\n",
    "Report best parameters and the fitted R2. \n"
   ]
  },
  {
   "cell_type": "code",
   "execution_count": 9,
   "metadata": {},
   "outputs": [],
   "source": [
    "def linearModelFit(X,y,lossfcn):\n",
    "    n = X.shape[1]\n",
    "    b = np.zeros((n))\n",
    "    \n",
    "    # Minimizing the loss function, given the arguments (X,y)\n",
    "    # jac = True, because loss function is assumed to return a tuple\n",
    "    RES = so.minimize(lossfcn,b,args=(X,y),jac=True)\n",
    "    \n",
    "    b = RES.x\n",
    "    \n",
    "    # calculating R2\n",
    "    TSS = np.sum(np.square(y-np.mean(y)))\n",
    "    RSS = linearModelLoss(b,X,y)[0]\n",
    "    R2 = 1-RSS/TSS \n",
    "    return (b,R2)"
   ]
  },
  {
   "cell_type": "code",
   "execution_count": 10,
   "metadata": {},
   "outputs": [],
   "source": [
    "X = np.array([[1,0],[1,-1],[1,2]])\n",
    "y = np.array([0,0.4,2])"
   ]
  },
  {
   "cell_type": "code",
   "execution_count": 11,
   "metadata": {
    "scrolled": true
   },
   "outputs": [
    {
     "name": "stdout",
     "output_type": "stream",
     "text": [
      "[0.6 0.6]\n",
      "0.75\n"
     ]
    }
   ],
   "source": [
    "b, R2 = linearModelFit(X, y, linearModelLoss)\n",
    "print(b)\n",
    "print(R2)"
   ]
  },
  {
   "cell_type": "code",
   "execution_count": 12,
   "metadata": {},
   "outputs": [
    {
     "data": {
      "text/plain": [
       "array([0.6, 0. , 1.8])"
      ]
     },
     "execution_count": 12,
     "metadata": {},
     "output_type": "execute_result"
    }
   ],
   "source": [
    "yp = (np.dot(X,b))\n",
    "yp"
   ]
  },
  {
   "cell_type": "code",
   "execution_count": 13,
   "metadata": {},
   "outputs": [],
   "source": [
    "Xplot = np.array([0,-1,2]) # removing the colomn of 1s to graph X points"
   ]
  },
  {
   "cell_type": "code",
   "execution_count": 14,
   "metadata": {
    "scrolled": true
   },
   "outputs": [
    {
     "data": {
      "image/png": "[encoded data removed]",
      "text/plain": [
       "<Figure size 432x288 with 1 Axes>"
      ]
     },
     "metadata": {
      "needs_background": "light"
     },
     "output_type": "display_data"
    }
   ],
   "source": [
    "plt.plot(Xplot, y, \"b.\")\n",
    "plt.xlabel(\"$x$\", fontsize=18)\n",
    "plt.ylabel(\"$y$\", rotation=0, fontsize=18)\n",
    "plt.title(\"y vs X\", fontsize=20)\n",
    "plt.show()"
   ]
  },
  {
   "cell_type": "code",
   "execution_count": 15,
   "metadata": {},
   "outputs": [
    {
     "data": {
      "image/png": "[encoded data removed]",
      "text/plain": [
       "<Figure size 432x288 with 1 Axes>"
      ]
     },
     "metadata": {
      "needs_background": "light"
     },
     "output_type": "display_data"
    }
   ],
   "source": [
    "#plot this model’s predictions\n",
    "plt.plot(Xplot, yp, \"r-\", linewidth=2, label=\"Prediction\")\n",
    "plt.plot(Xplot, y, \"b.\")\n",
    "plt.xlabel(\"$x$\", fontsize=18)\n",
    "plt.ylabel(\"$y$\", rotation=0, fontsize=18)\n",
    "plt.legend(loc=\"upper left\", fontsize=14)\n",
    "plt.title(\"y vs X\", fontsize=20)\n",
    "plt.show()"
   ]
  },
  {
   "cell_type": "markdown",
   "metadata": {},
   "source": [
    "This looks pretty good to me"
   ]
  },
  {
   "cell_type": "markdown",
   "metadata": {},
   "source": [
    "### Question 1.5: /15 points\n",
    "\n",
    "Use the above functions to fit your model to the possum data. Then use your model and the fitted parameters to make predictions along a grid of equally spaced possum ages.  \n",
    "\n",
    "Plot the data and add a line for the predicted values. You can get these by generating a new X-matrix with equally space ages (using for example np.linspace). Also report the R2 value for the fit. \n",
    "\n"
   ]
  },
  {
   "cell_type": "code",
   "execution_count": 16,
   "metadata": {
    "scrolled": true
   },
   "outputs": [],
   "source": [
    "y = possum_data.tailL.to_numpy()"
   ]
  },
  {
   "cell_type": "code",
   "execution_count": 17,
   "metadata": {},
   "outputs": [],
   "source": [
    "possumAges = possum_data.age.to_numpy()\n",
    "X = np.c_[np.ones(y.size), possumAges]"
   ]
  },
  {
   "cell_type": "code",
   "execution_count": 18,
   "metadata": {},
   "outputs": [],
   "source": [
    "# Call your fitting function\n",
    "b,R2 = linearModelFit(X, y, linearModelLoss)"
   ]
  },
  {
   "cell_type": "code",
   "execution_count": 19,
   "metadata": {},
   "outputs": [
    {
     "data": {
      "image/png": "[encoded data removed]",
      "text/plain": [
       "<Figure size 432x288 with 1 Axes>"
      ]
     },
     "metadata": {
      "needs_background": "light"
     },
     "output_type": "display_data"
    },
    {
     "name": "stdout",
     "output_type": "stream",
     "text": [
      "R2: 0.22286587947604086\n",
      "b:[33.35046603  0.75372837]\n"
     ]
    }
   ],
   "source": [
    "yp = X @ b\n",
    "\n",
    "# Plot line yp\n",
    "plt.plot(possumAges, yp, \"r-\", linewidth=2, label=\"Prediction\")\n",
    "plt.plot(possumAges, y, \"b.\")\n",
    "plt.xlabel(\"$Age$\", fontsize=18)\n",
    "plt.ylabel(\"$Tail Length$\", rotation=90, fontsize=18)\n",
    "plt.legend(loc=\"upper left\", fontsize=14)\n",
    "plt.title(\"Tail Length vs Age\", fontsize=20)\n",
    "plt.show()\n",
    "\n",
    "# Report R2 \n",
    "print(\"R2: \" + str(R2))\n",
    "print(\"b:\" + str(b))"
   ]
  },
  {
   "cell_type": "markdown",
   "metadata": {},
   "source": [
    "## Part 2: LAD Regression\n",
    "\n",
    "### Question 2.1:  /15 points\n",
    "\n",
    "In the previous section, we worked with the squared loss.  Now, we'll implement a linear model with least absolute deviation loss.\n",
    "\n",
    "Write a function `linearModelLossLAD` which computes the least absolute deviation loss function for a linear model  parameterized by $\\beta$, as well as the gradient of the loss.  The function should take as its first argument a 1d-array `beta` of coefficients for the linear model, as its second argument the design matrix `X` as a 2d-array, and as its third argument a 1d-array `y` of observed outcomes.\n",
    "\n",
    "Test the function with the values \n",
    "\n",
    "```\n",
    "X = np.array([[1,0],[1,-1],[1,2]])\n",
    "b = np.array([0.1,0.3])\n",
    "y = np.array([0,0.4,2]) \n",
    "```\n",
    "\n",
    "Report RSS and gradient. "
   ]
  },
  {
   "cell_type": "code",
   "execution_count": 20,
   "metadata": {},
   "outputs": [],
   "source": [
    "def linearModelLossLAD(b,X,y):\n",
    "    yp = (X @ b)\n",
    "    residual = y - yp\n",
    "    signRes = np.sign(residual); \n",
    "    ms = sum(abs(residual))\n",
    "    gradient =- (signRes @ X)\n",
    "    return (ms,gradient)"
   ]
  },
  {
   "cell_type": "code",
   "execution_count": 21,
   "metadata": {},
   "outputs": [],
   "source": [
    "X = np.array([[1,0],[1,-1],[1,2]])\n",
    "b = np.array([0.1,0.3])\n",
    "y = np.array([0,0.4,2]) "
   ]
  },
  {
   "cell_type": "code",
   "execution_count": 22,
   "metadata": {},
   "outputs": [],
   "source": [
    "ms, gradient = linearModelLossLAD(b,X,y)"
   ]
  },
  {
   "cell_type": "code",
   "execution_count": 23,
   "metadata": {},
   "outputs": [
    {
     "name": "stdout",
     "output_type": "stream",
     "text": [
      "Sum of Magnitudes: 2.0\n",
      "Gradient: [-1. -1.]\n"
     ]
    }
   ],
   "source": [
    "print(\"Sum of Magnitudes: \" + str(ms))\n",
    "print(\"Gradient: \" + str(gradient))"
   ]
  },
  {
   "cell_type": "markdown",
   "metadata": {},
   "source": [
    "### Question 2.2: /10 points\n",
    "\n",
    "\n",
    "Use the above functions to fit your LAD model. Use your model to make predictions along a grid of equally spaced possum ages.  Once fit, the code below will plot the fit.  The code will also print the R squared value on the plot.\n",
    "\n",
    "Written answer: What is the difference in the fit obtained with an L1 as compared to the L2 cost function? Which one has a higher R2 value? Why?  \n",
    "\n",
    "Note: If you recieve an error from the optimizer, it may be because the loss function for the LAD model is not differentiable at its minimum.  This will lead to some gradient based optimiers to fail to converge.  If this happens to you then pass `method=\"Powell\"` to `scipy.optimize.minimize`.\n",
    "\n"
   ]
  },
  {
   "cell_type": "code",
   "execution_count": 24,
   "metadata": {
    "scrolled": true
   },
   "outputs": [],
   "source": [
    "y = possum_data.tailL.to_numpy()"
   ]
  },
  {
   "cell_type": "code",
   "execution_count": 25,
   "metadata": {},
   "outputs": [],
   "source": [
    "possumAges = possum_data.age.to_numpy()\n",
    "X = np.c_[np.ones(y.size), possumAges]"
   ]
  },
  {
   "cell_type": "code",
   "execution_count": 26,
   "metadata": {},
   "outputs": [],
   "source": [
    "# Call your fitting function\n",
    "b,R2 = linearModelFit(X, y, linearModelLossLAD)"
   ]
  },
  {
   "cell_type": "code",
   "execution_count": 27,
   "metadata": {},
   "outputs": [
    {
     "data": {
      "image/png": "[encoded data removed]",
      "text/plain": [
       "<Figure size 432x288 with 1 Axes>"
      ]
     },
     "metadata": {
      "needs_background": "light"
     },
     "output_type": "display_data"
    },
    {
     "name": "stdout",
     "output_type": "stream",
     "text": [
      "R2: 0.12937096211205001\n",
      "b: [34.50470793  0.33291433]\n"
     ]
    }
   ],
   "source": [
    "yp = X @ b\n",
    "# Add the line to the graph \n",
    "plt.plot(possumAges, yp, \"r-\", linewidth=2, label=\"Prediction\")\n",
    "plt.plot(possumAges, y, \"b.\")\n",
    "plt.xlabel(\"$Age$\", fontsize=18)\n",
    "plt.ylabel(\"$Tail Length$\", rotation=90, fontsize=18)\n",
    "plt.legend(loc=\"upper left\", fontsize=14)\n",
    "plt.title(\"Tail Length vs Age\", fontsize=20)\n",
    "plt.show()\n",
    "\n",
    "# Report R2 \n",
    "print(\"R2: \" + str(R2))\n",
    "print(\"b: \" + str(b))"
   ]
  },
  {
   "cell_type": "markdown",
   "metadata": {},
   "source": [
    "Written Answer:\n",
    "\n",
    "**What is the difference in the fit obtained with an L1 as compared to the L2 cost function?**\n",
    "\n",
    "L1 resulting b: [33.35046603  0.75372837]\n",
    "\n",
    "L1 resulting R2: 0.22286587947604086\n",
    "\n",
    "L2 resulting b: [34.50470793  0.33291433]\n",
    "\n",
    "L2 resulting R2: 0.12937096211205001\n",
    "\n",
    "**Which one has a higher R2 value?**\n",
    "\n",
    "L1 has the higher R2 value.\n",
    "\n",
    "**Why?**\n",
    "\n",
    "Because of the outlier in the data, which affects L1's yp more heavily"
   ]
  },
  {
   "cell_type": "markdown",
   "metadata": {},
   "source": [
    "### Question 2.3: /15 points\n",
    "\n",
    "Fit both an OLS model and a LAD model with `statsmodels`.  In no more than two sentences, comment on the rsquared values from `statsmodels` and the rsquared values from your models. Are they similar?"
   ]
  },
  {
   "cell_type": "code",
   "execution_count": 28,
   "metadata": {},
   "outputs": [],
   "source": [
    "# go over below function"
   ]
  },
  {
   "cell_type": "code",
   "execution_count": 29,
   "metadata": {},
   "outputs": [
    {
     "name": "stderr",
     "output_type": "stream",
     "text": [
      "/Users/joelmiller/opt/anaconda3/lib/python3.9/site-packages/pandas/plotting/_matplotlib/core.py:1114: UserWarning: No data for colormapping provided via 'c'. Parameters 'cmap' will be ignored\n",
      "  scatter = ax.scatter(\n"
     ]
    },
    {
     "data": {
      "image/png": "[encoded data removed]",
      "text/plain": [
       "<Figure size 432x288 with 1 Axes>"
      ]
     },
     "metadata": {
      "needs_background": "light"
     },
     "output_type": "display_data"
    }
   ],
   "source": [
    "OLS = smf.ols('tailL~age', data = possum_data).fit()\n",
    "LAD = smf.quantreg('tailL~age', data = possum_data).fit(q = 0.5)\n",
    "\n",
    "possum_data.plot.scatter(x = 'age', y ='tailL')\n",
    "\n",
    "age = np.linspace(0,9,101)\n",
    "yp_ols = OLS.predict(exog = dict(age = age)).values\n",
    "yp_lad = LAD.predict(exog = dict(age = age)).values\n",
    "\n",
    "plt.plot(age, yp_ols, color = 'r', label = 'OLS')\n",
    "plt.plot(age, yp_lad, color = 'y', label = 'LAD')\n",
    "plt.xlabel(\"$Age$\", fontsize=18)\n",
    "plt.ylabel(\"$Tail Length$\", rotation=90, fontsize=18)\n",
    "plt.legend(loc=\"upper left\", fontsize=14)\n",
    "plt.title(\"Tail Length vs Age\", fontsize=20)\n",
    "plt.show()"
   ]
  },
  {
   "cell_type": "markdown",
   "metadata": {},
   "source": [
    "In no more than two sentences, comment on the rsquared values from statsmodels and the rsquared values from your models. Are they similar?\n",
    "\n",
    "The OLS "
   ]
  },
  {
   "cell_type": "code",
   "execution_count": null,
   "metadata": {},
   "outputs": [],
   "source": []
  }
 ],
 "metadata": {
  "kernelspec": {
   "display_name": "Python 3 (ipykernel)",
   "language": "python",
   "name": "python3"
  },
  "language_info": {
   "codemirror_mode": {
    "name": "ipython",
    "version": 3
   },
   "file_extension": ".py",
   "mimetype": "text/x-python",
   "name": "python",
   "nbconvert_exporter": "python",
   "pygments_lexer": "ipython3",
   "version": "3.9.12"
  }
 },
 "nbformat": 4,
 "nbformat_minor": 4
}
